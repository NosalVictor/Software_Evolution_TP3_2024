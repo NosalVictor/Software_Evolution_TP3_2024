{
 "cells": [
  {
   "cell_type": "code",
   "execution_count": 59,
   "id": "ef9cc5cb-3ce4-4e59-abd5-75785e4eb067",
   "metadata": {},
   "outputs": [],
   "source": [
    "import pandas as pd\n",
    "from pandas import option_context\n",
    "import numpy as np\n",
    "import requests\n",
    "import seaborn as sns\n",
    "import datetime\n",
    "import cliffsDelta as cd\n",
    "import matplotlib.pyplot as plt\n",
    "\n",
    "from tqdm import tqdm\n",
    "from statsmodels.stats.inter_rater import fleiss_kappa,aggregate_raters\n",
    "from scipy.stats import mannwhitneyu,shapiro,ttest_ind"
   ]
  },
  {
   "cell_type": "code",
   "execution_count": 118,
   "id": "67f34e37-48e6-4033-b30f-5ba256427f26",
   "metadata": {},
   "outputs": [],
   "source": [
    "QUERY_ROOT = \"https://api.github.com\"\n",
    "TOKEN = '' # write your GitHub API key here\n",
    "HEADERS={'Authorization':'token '+TOKEN}\n",
    "CSVPATH = \"homebrew_homebrew-core_1/homebrew_homebrew-core_1.csv\""
   ]
  },
  {
   "cell_type": "markdown",
   "id": "8095c72b-abe2-46b8-9034-1d9c7d98d3ad",
   "metadata": {},
   "source": [
    "## Section 3"
   ]
  },
  {
   "cell_type": "markdown",
   "id": "01c6e0c3-b012-4f00-a033-ddf3b74747c7",
   "metadata": {},
   "source": [
    "### Question 1"
   ]
  },
  {
   "cell_type": "markdown",
   "id": "2a3cc77d-eedd-4b5a-a560-b17a5a2b4cc4",
   "metadata": {},
   "source": [
    "#### Write an automated Python script to identify the GitHub Apps in the list of accounts, by calling the GitHub Users API and extracting the required information to make this decision. \n",
    "\n",
    "#### More information: You can search for the \"type\" key in the obtianed JSON result, If it is \"Bot\", then it is an app, if it is \"User\", then it is an account."
   ]
  },
  {
   "cell_type": "code",
   "execution_count": 18,
   "id": "2d0275f0-5c13-42ea-9025-5ea307d6398d",
   "metadata": {},
   "outputs": [
    {
     "name": "stdout",
     "output_type": "stream",
     "text": [
      "DataFrame:\n",
      "                contributor bothunter\n",
      "0            flyio-buildbot       Bot\n",
      "1         blockstack-devops       Bot\n",
      "2                SMillerDev     Human\n",
      "3                    petere     Human\n",
      "4                 bfontaine     Human\n",
      "5                   zuisong     Human\n",
      "6          asyncapi-bot-eve       Bot\n",
      "7            EricFromCanada     Human\n",
      "8                   Moulick     Human\n",
      "9               BrewTestBot       Bot\n",
      "10                 carlocab     Human\n",
      "11                  ddollar     Human\n",
      "12                  seratch     Human\n",
      "13                   sferik     Human\n",
      "14                  samford     Human\n",
      "15            jesseduffield     Human\n",
      "16                    claui     Human\n",
      "17               jeremylong     Human\n",
      "18                  tchajed     Human\n",
      "19          FnControlOption     Human\n",
      "20         flyio-flyctl-bot       Bot\n",
      "21                     avsm     Human\n",
      "22              denysdovhan     Human\n",
      "23                 derrabus     Human\n",
      "24  github-merge-queue[bot]       Bot\n",
      "25                 jidicula     Human\n",
      "26                bevanjkay     Human\n",
      "27            branchvincent     Human\n",
      "28                   nevack     Human\n",
      "29                     mkhl     Human\n",
      "30                  wing328     Human\n",
      "31                 stgraber     Human\n",
      "32               soloio-bot       Bot\n",
      "33                  matchai     Human\n",
      "34                kevinAlbs     Human\n",
      "35                 curquiza     Human\n",
      "36               dandavison     Human\n",
      "37               pulumi-bot       Bot\n",
      "38             epistrephein     Human\n",
      "39      github-actions[bot]       Bot\n"
     ]
    }
   ],
   "source": [
    "# 1. Read the given .csv file into a pandas DataFrame (df).\n",
    "# 2. Make sure there are 2 columns, one column name is \"contributor\" that has the name of the contributor, \n",
    "#    and another column name is \"bothunter\" that you will use later on in this assignment.\n",
    "# 3. Display the DataFrame.\n",
    "df = pd.read_csv(CSVPATH)\n",
    "\n",
    "if 'contributor' not in df.columns or 'bothunter' not in df.columns:\n",
    "    print(\"Error: The CSV file must contain 'contributor' and 'bothunter' columns.\")\n",
    "    exit(1)\n",
    "\n",
    "print(\"DataFrame:\")\n",
    "print(df)"
   ]
  },
  {
   "cell_type": "code",
   "execution_count": 19,
   "id": "f9312364-57d3-4f26-a216-82a22eea8349",
   "metadata": {},
   "outputs": [
    {
     "name": "stdout",
     "output_type": "stream",
     "text": [
      "List of Contributors:\n",
      "['flyio-buildbot', 'blockstack-devops', 'SMillerDev', 'petere', 'bfontaine', 'zuisong', 'asyncapi-bot-eve', 'EricFromCanada', 'Moulick', 'BrewTestBot', 'carlocab', 'ddollar', 'seratch', 'sferik', 'samford', 'jesseduffield', 'claui', 'jeremylong', 'tchajed', 'FnControlOption', 'flyio-flyctl-bot', 'avsm', 'denysdovhan', 'derrabus', 'github-merge-queue[bot]', 'jidicula', 'bevanjkay', 'branchvincent', 'nevack', 'mkhl', 'wing328', 'stgraber', 'soloio-bot', 'matchai', 'kevinAlbs', 'curquiza', 'dandavison', 'pulumi-bot', 'epistrephein', 'github-actions[bot]']\n"
     ]
    }
   ],
   "source": [
    "# 1. Store the names of the contributors in a list using the code snippet: 'df.contributor.to_list()'\n",
    "# 2. print the list\n",
    "\n",
    "contributors_list = df.contributor.to_list()\n",
    "\n",
    "print(\"List of Contributors:\")\n",
    "print(contributors_list)"
   ]
  },
  {
   "cell_type": "code",
   "execution_count": 20,
   "id": "2cd6ab44-f113-466a-863c-862674798f4c",
   "metadata": {},
   "outputs": [
    {
     "name": "stdout",
     "output_type": "stream",
     "text": [
      "DataFrame:\n",
      "                contributor    app\n",
      "0            flyio-buildbot  False\n",
      "1         blockstack-devops  False\n",
      "2                SMillerDev  False\n",
      "3                    petere  False\n",
      "4                 bfontaine  False\n",
      "5                   zuisong  False\n",
      "6          asyncapi-bot-eve  False\n",
      "7            EricFromCanada  False\n",
      "8                   Moulick  False\n",
      "9               BrewTestBot  False\n",
      "10                 carlocab  False\n",
      "11                  ddollar  False\n",
      "12                  seratch  False\n",
      "13                   sferik  False\n",
      "14                  samford  False\n",
      "15            jesseduffield  False\n",
      "16                    claui  False\n",
      "17               jeremylong  False\n",
      "18                  tchajed  False\n",
      "19          FnControlOption  False\n",
      "20         flyio-flyctl-bot  False\n",
      "21                     avsm  False\n",
      "22              denysdovhan  False\n",
      "23                 derrabus  False\n",
      "24  github-merge-queue[bot]   True\n",
      "25                 jidicula  False\n",
      "26                bevanjkay  False\n",
      "27            branchvincent  False\n",
      "28                   nevack  False\n",
      "29                     mkhl  False\n",
      "30                  wing328  False\n",
      "31                 stgraber  False\n",
      "32               soloio-bot  False\n",
      "33                  matchai  False\n",
      "34                kevinAlbs  False\n",
      "35                 curquiza  False\n",
      "36               dandavison  False\n",
      "37               pulumi-bot  False\n",
      "38             epistrephein  False\n",
      "39      github-actions[bot]   True\n"
     ]
    }
   ],
   "source": [
    "# 1. Using a for loop, iterate over each contributor in the list and query the GitHub Users API.\n",
    "#    You can use \"query = f'{QUERY_ROOT}/users/{contributor}'\", where QUERY_ROOT is defined at the beginning of this notebook \n",
    "#    above and 'contributor' is each individul contributor from the list\n",
    "# 2. Get the response using 'response = requests.get(query, headers=HEADERS)'.\n",
    "# 3. convert the response to JSON using 'json_response = response.json()'.\n",
    "# 4. Iterate over this JSON response and get the value of the 'type' key. If it is \"Bot\" then the contributor is an App, \n",
    "#    if \"User\" then the contributor is an account. You should boolean values to indicate if the contributor is an App (True) or User/Organisation (False)\n",
    "# 5. Save these results in list of dictionary of the form [{'contributor': <contributor name>, 'app': <boolean value>}, {...}, {...}, {...}].\n",
    "#    Lets call this list as \"app_list_dict\"\n",
    "# 6. Finally convert this list of dictionary to DataFrame by writing 'pd.DataFrame.from_dict(app_dict)'\n",
    "# 7. Display the DataFrame. This should have two columns - contributor and app\n",
    "\n",
    "app_dict = []\n",
    "\n",
    "for contributor in df['contributor']:\n",
    "    query = f\"{QUERY_ROOT}/users/{contributor}\"\n",
    "    response = requests.get(query, headers=HEADERS)\n",
    "    json_response = response.json()\n",
    "    \n",
    "    if \"type\" in json_response:\n",
    "        is_app = True if json_response[\"type\"] == \"Bot\" else False\n",
    "    else:\n",
    "        is_app = False\n",
    "    \n",
    "    app_dict.append({'contributor': contributor, 'app': is_app})\n",
    "\n",
    "app_df = pd.DataFrame.from_dict(app_dict)\n",
    "\n",
    "print(\"DataFrame:\")\n",
    "print(app_df)\n"
   ]
  },
  {
   "cell_type": "markdown",
   "id": "bf7a784f-8b41-488b-8034-7f66ed9b6d97",
   "metadata": {},
   "source": [
    "### Question 2\n",
    "\n",
    "#### Add an app column in the CSV file to store this information. You can write True if it is an app and False if it is not.\n"
   ]
  },
  {
   "cell_type": "code",
   "execution_count": 21,
   "id": "242398c5-d3ae-472f-99e8-ac86be7897c2",
   "metadata": {},
   "outputs": [],
   "source": [
    "# Merge the app DataFrame to df by writing 'pd.merge(df, <app df>, on='contributor'). This is similar to SQL join on primary key 'contributor'.\n",
    "# The resultant df should have 3 columns - contributor, bothunter and app.\n",
    "\n",
    "merged_df = pd.merge(df, app_df, on='contributor')\n",
    "\n",
    "merged_df.to_csv(CSVPATH, index=False)"
   ]
  },
  {
   "cell_type": "markdown",
   "id": "db9ba7d8-7a6f-4485-8e7b-bc5a00646021",
   "metadata": {},
   "source": [
    "### Question 3\n",
    "\n",
    "#### Report on the total number of GitHub Apps, and User accounts present in the list of accounts of your dataset."
   ]
  },
  {
   "cell_type": "code",
   "execution_count": 22,
   "id": "3092d616-2426-417a-95be-7f54f1124eff",
   "metadata": {},
   "outputs": [
    {
     "name": "stdout",
     "output_type": "stream",
     "text": [
      "Report on GitHub Apps and User accounts:\n",
      "Total number of GitHub Apps: 2\n",
      "Total number of User accounts: 38\n"
     ]
    }
   ],
   "source": [
    "num_apps = merged_df['app'].sum()\n",
    "num_users = merged_df.shape[0] - num_apps\n",
    "\n",
    "print(\"Report on GitHub Apps and User accounts:\")\n",
    "print(\"Total number of GitHub Apps:\", num_apps)\n",
    "print(\"Total number of User accounts:\", num_users)"
   ]
  },
  {
   "cell_type": "markdown",
   "id": "406e178f-2b41-4758-b075-e2eea47f3991",
   "metadata": {},
   "source": [
    "## Section 4"
   ]
  },
  {
   "cell_type": "markdown",
   "id": "a05bb032-1b55-402e-8074-42f2210f3a16",
   "metadata": {},
   "source": [
    "### Question 1"
   ]
  },
  {
   "cell_type": "markdown",
   "id": "48285de2-8b3a-481a-bf93-b99295ba8a4a",
   "metadata": {},
   "source": [
    "#### Write an automated script to report on the prediction of the GitHub accounts in your dataset, using BoDeGHa and RABBIT bot identification tools. For each tool, your script should add an extra column to the CSV ﬁle of your dataset, reporting the prediction (bot, human, unknown) of the considered tool on the considered account."
   ]
  },
  {
   "cell_type": "markdown",
   "id": "35d19172-9890-4706-93a1-663c8b2d28bd",
   "metadata": {},
   "source": [
    "#### More information:\n",
    "You can write an automated script to execute BoDeGHa and RABBIT, and save the results in a DataFrame. For BoDeGHa, you can ask the tool to give the output in CSV format, save it as a csv file and read it in a DataFrame. For RABBIT, you can use its internal argument to store the results in a .csv file and read it in a DataFrame. Remember to read their Documentation (Readme.md) for their input arguments and example outputs before using these tools.  \n",
    "Similar to what you did in Section 2 - Question 1 and 2, add an additional column named 'bodegha' to store the predictions \n",
    "given by BoDeGHa and add another column called 'rabbit' to store the preditions given by RABBIT. "
   ]
  },
  {
   "cell_type": "code",
   "execution_count": 23,
   "id": "ee4006c3-796d-4a7a-9b97-ec5007cc0680",
   "metadata": {},
   "outputs": [
    {
     "name": "stdout",
     "output_type": "stream",
     "text": [
      "                account prediction\n",
      "0              curquiza        Bot\n",
      "1            jeremylong        Bot\n",
      "2            pulumi-bot        Bot\n",
      "3           BrewTestBot      Human\n",
      "4        EricFromCanada      Human\n",
      "5               Moulick      Human\n",
      "6            SMillerDev      Human\n",
      "7             bevanjkay      Human\n",
      "8         branchvincent      Human\n",
      "9              carlocab      Human\n",
      "10             derrabus      Human\n",
      "11              samford      Human\n",
      "12              zuisong      Human\n",
      "13  github-actions[bot]        Bot\n"
     ]
    }
   ],
   "source": [
    "# Read the .csv file that has the predicitons given by BoDeGHa.\n",
    "\n",
    "bodegha_predictions_df = pd.read_csv('homebrew_homebrew-core_1/bodegha_predictions.csv')\n",
    "print(bodegha_predictions_df)"
   ]
  },
  {
   "cell_type": "code",
   "execution_count": 24,
   "id": "fd79d43a-902d-49f9-8ab4-2ca78e5f4393",
   "metadata": {},
   "outputs": [
    {
     "name": "stdout",
     "output_type": "stream",
     "text": [
      "                contributor bothunter    app  bodegha\n",
      "0            flyio-buildbot       Bot  False  Unknown\n",
      "1         blockstack-devops       Bot  False  Unknown\n",
      "2                SMillerDev     Human  False    Human\n",
      "3                    petere     Human  False  Unknown\n",
      "4                 bfontaine     Human  False  Unknown\n",
      "5                   zuisong     Human  False    Human\n",
      "6          asyncapi-bot-eve       Bot  False  Unknown\n",
      "7            EricFromCanada     Human  False    Human\n",
      "8                   Moulick     Human  False    Human\n",
      "9               BrewTestBot       Bot  False    Human\n",
      "10                 carlocab     Human  False    Human\n",
      "11                  ddollar     Human  False  Unknown\n",
      "12                  seratch     Human  False  Unknown\n",
      "13                   sferik     Human  False  Unknown\n",
      "14                  samford     Human  False    Human\n",
      "15            jesseduffield     Human  False  Unknown\n",
      "16                    claui     Human  False  Unknown\n",
      "17               jeremylong     Human  False      Bot\n",
      "18                  tchajed     Human  False  Unknown\n",
      "19          FnControlOption     Human  False  Unknown\n",
      "20         flyio-flyctl-bot       Bot  False  Unknown\n",
      "21                     avsm     Human  False  Unknown\n",
      "22              denysdovhan     Human  False  Unknown\n",
      "23                 derrabus     Human  False    Human\n",
      "24  github-merge-queue[bot]       Bot   True  Unknown\n",
      "25                 jidicula     Human  False  Unknown\n",
      "26                bevanjkay     Human  False    Human\n",
      "27            branchvincent     Human  False    Human\n",
      "28                   nevack     Human  False  Unknown\n",
      "29                     mkhl     Human  False  Unknown\n",
      "30                  wing328     Human  False  Unknown\n",
      "31                 stgraber     Human  False  Unknown\n",
      "32               soloio-bot       Bot  False  Unknown\n",
      "33                  matchai     Human  False  Unknown\n",
      "34                kevinAlbs     Human  False  Unknown\n",
      "35                 curquiza     Human  False      Bot\n",
      "36               dandavison     Human  False  Unknown\n",
      "37               pulumi-bot       Bot  False      Bot\n",
      "38             epistrephein     Human  False  Unknown\n",
      "39      github-actions[bot]       Bot   True      Bot\n"
     ]
    }
   ],
   "source": [
    "# merge it to df - Now your df should have the following four columns - contributor, bothunter, app, bodegha\n",
    "\n",
    "df = pd.merge(merged_df, bodegha_predictions_df, left_on='contributor', right_on='account', how='left')\n",
    "df.drop('account', axis=1, inplace=True)\n",
    "df.rename(columns={'prediction': 'bodegha'}, inplace=True)\n",
    "df['bodegha'] = df['bodegha'].fillna('Unknown')\n",
    "\n",
    "print(df)"
   ]
  },
  {
   "cell_type": "code",
   "execution_count": 25,
   "id": "bf49eb15-f5b7-4543-a1e7-056c1f6205cf",
   "metadata": {},
   "outputs": [
    {
     "name": "stdout",
     "output_type": "stream",
     "text": [
      "    Unnamed: 0                  account prediction  confidence\n",
      "0            0      flyio-buildbot\\tBot    invalid         NaN\n",
      "1            1   blockstack-devops\\tBot    invalid         NaN\n",
      "2            2        SMillerDev\\tHuman    invalid         NaN\n",
      "3            3            petere\\tHuman    invalid         NaN\n",
      "4            4         bfontaine\\tHuman    invalid         NaN\n",
      "5            5           zuisong\\tHuman    invalid         NaN\n",
      "6            6    asyncapi-bot-eve\\tBot    invalid         NaN\n",
      "7            7    EricFromCanada\\tHuman    invalid         NaN\n",
      "8            8           Moulick\\tHuman    invalid         NaN\n",
      "9            9         BrewTestBot\\tBot    invalid         NaN\n",
      "10          10          carlocab\\tHuman    invalid         NaN\n",
      "11          11           ddollar\\tHuman    invalid         NaN\n",
      "12          12           seratch\\tHuman    invalid         NaN\n",
      "13          13            sferik\\tHuman    invalid         NaN\n",
      "14          14           samford\\tHuman    invalid         NaN\n",
      "15          15     jesseduffield\\tHuman    invalid         NaN\n",
      "16          16             claui\\tHuman    invalid         NaN\n",
      "17          17        jeremylong\\tHuman    invalid         NaN\n",
      "18          18                  tchajed      human       0.996\n",
      "19          19          FnControlOption      human       0.997\n",
      "20          20         flyio-flyctl-bot        bot       0.993\n",
      "21          21                     avsm      human       0.999\n",
      "22          22              denysdovhan      human       0.988\n",
      "23          23                 derrabus      human       1.000\n",
      "24          24  github-merge-queue[bot]        app       1.000\n",
      "25          25                 jidicula      human       1.000\n",
      "26          26                bevanjkay      human       0.994\n",
      "27          27            branchvincent      human       0.965\n",
      "28          28                   nevack      human       0.999\n",
      "29          29                     mkhl      human       0.998\n",
      "30          30                  wing328      human       0.847\n",
      "31          31                 stgraber      human       0.999\n",
      "32          32               soloio-bot        bot       0.718\n",
      "33          33                  matchai      human       0.609\n",
      "34          34                kevinAlbs      human       0.999\n",
      "35          35                 curquiza      human       0.998\n",
      "36          36               dandavison      human       0.999\n",
      "37          37               pulumi-bot        bot       0.983\n",
      "38          38             epistrephein      human       0.999\n",
      "39          39      github-actions[bot]        app       1.000\n"
     ]
    }
   ],
   "source": [
    "# Read the predictions given by RABBIT from the corresponding .csv file \n",
    "\n",
    "rabbit_predictions_df = pd.read_csv('homebrew_homebrew-core_1/rabbit_predictions.csv')\n",
    "print(rabbit_predictions_df)"
   ]
  },
  {
   "cell_type": "code",
   "execution_count": 26,
   "id": "43877324-9c86-42f3-a109-bda2565dab87",
   "metadata": {},
   "outputs": [
    {
     "name": "stdout",
     "output_type": "stream",
     "text": [
      "                contributor bothunter    app  bodegha   rabbit\n",
      "0            flyio-buildbot       Bot  False  Unknown  Unknown\n",
      "1         blockstack-devops       Bot  False  Unknown  Unknown\n",
      "2                SMillerDev     Human  False    Human  Unknown\n",
      "3                    petere     Human  False  Unknown  Unknown\n",
      "4                 bfontaine     Human  False  Unknown  Unknown\n",
      "5                   zuisong     Human  False    Human  Unknown\n",
      "6          asyncapi-bot-eve       Bot  False  Unknown  Unknown\n",
      "7            EricFromCanada     Human  False    Human  Unknown\n",
      "8                   Moulick     Human  False    Human  Unknown\n",
      "9               BrewTestBot       Bot  False    Human  Unknown\n",
      "10                 carlocab     Human  False    Human  Unknown\n",
      "11                  ddollar     Human  False  Unknown  Unknown\n",
      "12                  seratch     Human  False  Unknown  Unknown\n",
      "13                   sferik     Human  False  Unknown  Unknown\n",
      "14                  samford     Human  False    Human  Unknown\n",
      "15            jesseduffield     Human  False  Unknown  Unknown\n",
      "16                    claui     Human  False  Unknown  Unknown\n",
      "17               jeremylong     Human  False      Bot  Unknown\n",
      "18                  tchajed     Human  False  Unknown    human\n",
      "19          FnControlOption     Human  False  Unknown    human\n",
      "20         flyio-flyctl-bot       Bot  False  Unknown      bot\n",
      "21                     avsm     Human  False  Unknown    human\n",
      "22              denysdovhan     Human  False  Unknown    human\n",
      "23                 derrabus     Human  False    Human    human\n",
      "24  github-merge-queue[bot]       Bot   True  Unknown      app\n",
      "25                 jidicula     Human  False  Unknown    human\n",
      "26                bevanjkay     Human  False    Human    human\n",
      "27            branchvincent     Human  False    Human    human\n",
      "28                   nevack     Human  False  Unknown    human\n",
      "29                     mkhl     Human  False  Unknown    human\n",
      "30                  wing328     Human  False  Unknown    human\n",
      "31                 stgraber     Human  False  Unknown    human\n",
      "32               soloio-bot       Bot  False  Unknown      bot\n",
      "33                  matchai     Human  False  Unknown    human\n",
      "34                kevinAlbs     Human  False  Unknown    human\n",
      "35                 curquiza     Human  False      Bot    human\n",
      "36               dandavison     Human  False  Unknown    human\n",
      "37               pulumi-bot       Bot  False      Bot      bot\n",
      "38             epistrephein     Human  False  Unknown    human\n",
      "39      github-actions[bot]       Bot   True      Bot      app\n"
     ]
    }
   ],
   "source": [
    "# merge it to df - Now your df should have the following five columns - contributor, bothunter, app, bodegha, rabbit\n",
    "rabbit_predictions_df.drop(rabbit_predictions_df.columns[0],axis=1, inplace=True)\n",
    "df = pd.merge(df, rabbit_predictions_df, left_on='contributor', right_on='account', how='left')\n",
    "\n",
    "df.drop('account', axis=1, inplace=True)\n",
    "df.drop('confidence', axis=1, inplace=True)\n",
    "df.rename(columns={'prediction': 'rabbit'}, inplace=True)\n",
    "df['rabbit'] = df['rabbit'].fillna('Unknown')\n",
    "\n",
    "print(df)"
   ]
  },
  {
   "cell_type": "code",
   "execution_count": 27,
   "id": "3d630b7d-494b-419d-9778-9c2eeb5faecc",
   "metadata": {},
   "outputs": [
    {
     "name": "stdout",
     "output_type": "stream",
     "text": [
      "                contributor bothunter    app  bodegha   rabbit\n",
      "0            flyio-buildbot       Bot  False  Unknown  Unknown\n",
      "1         blockstack-devops       Bot  False  Unknown  Unknown\n",
      "2                SMillerDev     Human  False    Human  Unknown\n",
      "3                    petere     Human  False  Unknown  Unknown\n",
      "4                 bfontaine     Human  False  Unknown  Unknown\n",
      "5                   zuisong     Human  False    Human  Unknown\n",
      "6          asyncapi-bot-eve       Bot  False  Unknown  Unknown\n",
      "7            EricFromCanada     Human  False    Human  Unknown\n",
      "8                   Moulick     Human  False    Human  Unknown\n",
      "9               BrewTestBot       Bot  False    Human  Unknown\n",
      "10                 carlocab     Human  False    Human  Unknown\n",
      "11                  ddollar     Human  False  Unknown  Unknown\n",
      "12                  seratch     Human  False  Unknown  Unknown\n",
      "13                   sferik     Human  False  Unknown  Unknown\n",
      "14                  samford     Human  False    Human  Unknown\n",
      "15            jesseduffield     Human  False  Unknown  Unknown\n",
      "16                    claui     Human  False  Unknown  Unknown\n",
      "17               jeremylong     Human  False      Bot  Unknown\n",
      "18                  tchajed     Human  False  Unknown    Human\n",
      "19          FnControlOption     Human  False  Unknown    Human\n",
      "20         flyio-flyctl-bot       Bot  False  Unknown      Bot\n",
      "21                     avsm     Human  False  Unknown    Human\n",
      "22              denysdovhan     Human  False  Unknown    Human\n",
      "23                 derrabus     Human  False    Human    Human\n",
      "24  github-merge-queue[bot]       Bot   True  Unknown      Bot\n",
      "25                 jidicula     Human  False  Unknown    Human\n",
      "26                bevanjkay     Human  False    Human    Human\n",
      "27            branchvincent     Human  False    Human    Human\n",
      "28                   nevack     Human  False  Unknown    Human\n",
      "29                     mkhl     Human  False  Unknown    Human\n",
      "30                  wing328     Human  False  Unknown    Human\n",
      "31                 stgraber     Human  False  Unknown    Human\n",
      "32               soloio-bot       Bot  False  Unknown      Bot\n",
      "33                  matchai     Human  False  Unknown    Human\n",
      "34                kevinAlbs     Human  False  Unknown    Human\n",
      "35                 curquiza     Human  False      Bot    Human\n",
      "36               dandavison     Human  False  Unknown    Human\n",
      "37               pulumi-bot       Bot  False      Bot      Bot\n",
      "38             epistrephein     Human  False  Unknown    Human\n",
      "39      github-actions[bot]       Bot   True      Bot      Bot\n"
     ]
    }
   ],
   "source": [
    "# Replace the prediction result given by rabbit from 'bot' to 'Bot', 'app' to 'Bot', 'human' to 'Human', 'unknown' to 'Unknown' to maintain consistency\n",
    "\n",
    "df['rabbit'] = df['rabbit'].replace({'bot': 'Bot', 'app': 'Bot', 'human': 'Human'})\n",
    "print(df)"
   ]
  },
  {
   "cell_type": "markdown",
   "id": "a6f38f75-30ec-463f-bc98-89de44a14db4",
   "metadata": {},
   "source": [
    "### Question 2\n",
    "\n",
    "#### Add an extra column to the CSV ﬁle called 'manual' that has the label determined by you. For each account, of your own opinion on its nature (bot, human or unknown only in case of doubt) on the basis of a manual veriﬁcation of the contributor’s activities in the repository through the GitHub UI and through the GitHub Events API https://api.github.com/users/username/events, and taking into account the prediction made by the bot identification tools."
   ]
  },
  {
   "cell_type": "markdown",
   "id": "e0da30a5-19c6-4ebe-b4cf-9641a432a3ec",
   "metadata": {},
   "source": [
    "#### More information:\n",
    "For each contributor, look at their activities in GitHub UI, look at their latest events using GitHub Events API - https://api.github.com/users/<contributor\\>/events, to make a decision on their type. \n",
    "\n",
    "In addition, you should also write a very small reason why do you think they are bot or human (e.g., same activity at regular interval so Bot, files committed and code modified looks like Human, comments look like Human, comment look like Bot, test report looks automated so Bot, and so on....). This might be useful to answer the next question as well."
   ]
  },
  {
   "cell_type": "code",
   "execution_count": 28,
   "id": "884a7612-7ff7-40a4-805f-113c6f70786b",
   "metadata": {},
   "outputs": [],
   "source": [
    "# Write your manual decision here\n",
    "# example : \n",
    "# manual_list_dict = [{'contributor': 'tommens', 'manual': 'human'}, {....}, {....}, {....}]\n",
    "# pd.DataFrame.from_dict(manual_list_dict)\n",
    "\n",
    "# YOUR CODE BELOW\n"
   ]
  },
  {
   "cell_type": "code",
   "execution_count": 29,
   "id": "93c4ce14-c393-45ba-aba0-bf1ae23d1cca",
   "metadata": {},
   "outputs": [],
   "source": [
    "# merge it with df of predictions. Now your df should have the following six columns\n",
    "# contributor, bothunter, app, bodegha, rabbit, manual\n",
    "\n",
    "# YOUR CODE BELOW\n"
   ]
  },
  {
   "cell_type": "markdown",
   "id": "0ec42ed1-0758-4ce4-82cc-542e490626dc",
   "metadata": {},
   "source": [
    "### Question 3\n",
    "\n",
    "#### Study and report the purpose of these identified bots and humans in the repository assigned to you. \n",
    "\n",
    "For example, the purpose can be based on but not limited to - \n",
    "\n",
    "the type of activities that they are performing (releasing a version on every Sunday, updating the documentation), type of comments they are posting (reviewing code, test summary report), when are they triggered (when a new PR is created, when someone in the project ask the bot to merge the code) and so on. \\textbf{Note:} The purpose can be other than what is provided in examples above. \n"
   ]
  },
  {
   "cell_type": "code",
   "execution_count": null,
   "id": "64569eb1-7faa-46e4-bb81-02bb1058b2a7",
   "metadata": {},
   "outputs": [],
   "source": []
  },
  {
   "cell_type": "markdown",
   "id": "0b41eb2e-b481-4502-94b3-f0d28eb8f76a",
   "metadata": {},
   "source": [
    "### Question 4"
   ]
  },
  {
   "cell_type": "markdown",
   "id": "3ad85279-0ee8-49de-8c5a-bf0850494772",
   "metadata": {},
   "source": [
    "#### Create a column named 'type' to the CSV ﬁle and write your ﬁnal decision on the type of contributor. The ﬁnal decision on their type is the prediciton that majority of the raters predicted (you can ignore the 'Unknown'), in the case of contradiction, you can finalise it as Human.\n",
    "#### Case 1: If two raters has mentioned a contributor as Bot and others mentioned it as 'Unknown', then the type of the account is Bot.  \n",
    "#### Case 2: If 3 raters give 'Unknown' to a contributor then the prediction given by the fourth rater is final.\n",
    "#### Case 3: If 2 raters give the prediciton as 'Bot' and 2 raters give it as 'Human', then the final decision is 'Human'\n",
    "#### In this step, GitHub Apps should be marked as App and not as a Bot."
   ]
  },
  {
   "cell_type": "code",
   "execution_count": 30,
   "id": "1040a69f-25cb-467a-9afd-6f32f6ae2a6e",
   "metadata": {},
   "outputs": [
    {
     "name": "stdout",
     "output_type": "stream",
     "text": [
      "                contributor bothunter    app  bodegha   rabbit   type\n",
      "0            flyio-buildbot       Bot  False  Unknown  Unknown    Bot\n",
      "1         blockstack-devops       Bot  False  Unknown  Unknown    Bot\n",
      "2                SMillerDev     Human  False    Human  Unknown  Human\n",
      "3                    petere     Human  False  Unknown  Unknown  Human\n",
      "4                 bfontaine     Human  False  Unknown  Unknown  Human\n",
      "5                   zuisong     Human  False    Human  Unknown  Human\n",
      "6          asyncapi-bot-eve       Bot  False  Unknown  Unknown    Bot\n",
      "7            EricFromCanada     Human  False    Human  Unknown  Human\n",
      "8                   Moulick     Human  False    Human  Unknown  Human\n",
      "9               BrewTestBot       Bot  False    Human  Unknown  Human\n",
      "10                 carlocab     Human  False    Human  Unknown  Human\n",
      "11                  ddollar     Human  False  Unknown  Unknown  Human\n",
      "12                  seratch     Human  False  Unknown  Unknown  Human\n",
      "13                   sferik     Human  False  Unknown  Unknown  Human\n",
      "14                  samford     Human  False    Human  Unknown  Human\n",
      "15            jesseduffield     Human  False  Unknown  Unknown  Human\n",
      "16                    claui     Human  False  Unknown  Unknown  Human\n",
      "17               jeremylong     Human  False      Bot  Unknown  Human\n",
      "18                  tchajed     Human  False  Unknown    Human  Human\n",
      "19          FnControlOption     Human  False  Unknown    Human  Human\n",
      "20         flyio-flyctl-bot       Bot  False  Unknown      Bot    Bot\n",
      "21                     avsm     Human  False  Unknown    Human  Human\n",
      "22              denysdovhan     Human  False  Unknown    Human  Human\n",
      "23                 derrabus     Human  False    Human    Human  Human\n",
      "24  github-merge-queue[bot]       Bot   True  Unknown      Bot    App\n",
      "25                 jidicula     Human  False  Unknown    Human  Human\n",
      "26                bevanjkay     Human  False    Human    Human  Human\n",
      "27            branchvincent     Human  False    Human    Human  Human\n",
      "28                   nevack     Human  False  Unknown    Human  Human\n",
      "29                     mkhl     Human  False  Unknown    Human  Human\n",
      "30                  wing328     Human  False  Unknown    Human  Human\n",
      "31                 stgraber     Human  False  Unknown    Human  Human\n",
      "32               soloio-bot       Bot  False  Unknown      Bot    Bot\n",
      "33                  matchai     Human  False  Unknown    Human  Human\n",
      "34                kevinAlbs     Human  False  Unknown    Human  Human\n",
      "35                 curquiza     Human  False      Bot    Human  Human\n",
      "36               dandavison     Human  False  Unknown    Human  Human\n",
      "37               pulumi-bot       Bot  False      Bot      Bot    Bot\n",
      "38             epistrephein     Human  False  Unknown    Human  Human\n",
      "39      github-actions[bot]       Bot   True      Bot      Bot    App\n"
     ]
    }
   ],
   "source": [
    "# Make a final decision on the type based on the predictions given by bothunter, bodegha, bothunter and your manual labelling. \n",
    "# Now your df should contain seven columns - contributor, bothunter, app, bodegha, rabbit, manual and type\n",
    "\n",
    "df['bot_count'] = df[['bothunter', 'bodegha', 'rabbit']].apply(lambda row: row.value_counts().get('Bot', 0), axis=1)\n",
    "df['human_count'] = df[['bothunter', 'bodegha', 'rabbit']].apply(lambda row: row.value_counts().get('Human', 0), axis=1)\n",
    "\n",
    "def final_decision(row):\n",
    "    if row['bot_count'] > row['human_count']:\n",
    "        return 'Bot'\n",
    "    else:\n",
    "        return 'Human'\n",
    "\n",
    "df['type'] = df.apply(final_decision, axis=1)\n",
    "df.loc[df['app'], 'type'] = 'App'\n",
    "df.drop(['bot_count', 'human_count'], axis=1, inplace=True)\n",
    "print(df)"
   ]
  },
  {
   "cell_type": "markdown",
   "id": "40f47f01-f3be-4309-b37c-e23b4887db93",
   "metadata": {},
   "source": [
    "### Question 5 (a)\n",
    "\n",
    "#### Compute and report the Fleiss Kappa interrater agreement score between the labels computed by all bot identiﬁcation tools."
   ]
  },
  {
   "cell_type": "markdown",
   "id": "4c828483-7d39-40b0-be45-e61264daa1bd",
   "metadata": {},
   "source": [
    "##### For example:\n",
    "\n",
    "converted_df = aggregate_raters(np.array(df[['rater1','rater2']]))  \n",
    "kappa = fleiss_kappa(converted_df[0])  \n",
    "print('kappa')  "
   ]
  },
  {
   "cell_type": "markdown",
   "id": "e94e819d-1e1b-4e00-935c-617f7b4585f5",
   "metadata": {},
   "source": [
    "#### a. between bothunter and rabbit"
   ]
  },
  {
   "cell_type": "code",
   "execution_count": 31,
   "id": "a72de000-7e18-4e38-a8d0-f0779c2df4dd",
   "metadata": {},
   "outputs": [
    {
     "name": "stdout",
     "output_type": "stream",
     "text": [
      "kappa :  0.1946308724832215\n"
     ]
    }
   ],
   "source": [
    "converted_df = aggregate_raters(np.array(df[['bothunter','rabbit']]))\n",
    "kappa = fleiss_kappa(converted_df[0])\n",
    "print('kappa : ', kappa)"
   ]
  },
  {
   "cell_type": "markdown",
   "id": "43b8246f-3071-4642-a0d5-737c5e462f9f",
   "metadata": {},
   "source": [
    "#### b. between bothunter and bodegha"
   ]
  },
  {
   "cell_type": "code",
   "execution_count": 32,
   "id": "cbecc6ac-b80a-4e2d-a944-ceaf61cb6874",
   "metadata": {},
   "outputs": [
    {
     "name": "stdout",
     "output_type": "stream",
     "text": [
      "kappa :  -0.19772844605059373\n"
     ]
    }
   ],
   "source": [
    "converted_df = aggregate_raters(np.array(df[['bothunter','bodegha']]))\n",
    "kappa = fleiss_kappa(converted_df[0])\n",
    "print('kappa : ', kappa)"
   ]
  },
  {
   "cell_type": "markdown",
   "id": "bc8ae1a7-f3de-4218-9f10-412e35580490",
   "metadata": {},
   "source": [
    "#### c. between bodegha and rabbit"
   ]
  },
  {
   "cell_type": "code",
   "execution_count": 33,
   "id": "4504ad9e-96dc-4931-94f2-34bac64501ca",
   "metadata": {},
   "outputs": [
    {
     "name": "stdout",
     "output_type": "stream",
     "text": [
      "kappa :  -0.0946907498631638\n"
     ]
    }
   ],
   "source": [
    "converted_df = aggregate_raters(np.array(df[['bodegha','rabbit']]))\n",
    "kappa = fleiss_kappa(converted_df[0])\n",
    "print('kappa : ', kappa)"
   ]
  },
  {
   "cell_type": "markdown",
   "id": "5563de23-ee19-4845-ab53-f0ee825c3749",
   "metadata": {},
   "source": [
    "#### d. between bothunter, bodegha and rabbit"
   ]
  },
  {
   "cell_type": "code",
   "execution_count": 34,
   "id": "b09313d6-4b5d-4392-a7a5-d23fdf8763a3",
   "metadata": {},
   "outputs": [
    {
     "name": "stdout",
     "output_type": "stream",
     "text": [
      "kappa :  0.015496809480401148\n"
     ]
    }
   ],
   "source": [
    "converted_df = aggregate_raters(np.array(df[['bothunter','bodegha','rabbit']]))\n",
    "kappa = fleiss_kappa(converted_df[0])\n",
    "print('kappa : ', kappa)"
   ]
  },
  {
   "cell_type": "markdown",
   "id": "15475bd2-905a-4676-b68b-0ad24e7465ff",
   "metadata": {},
   "source": [
    "### Question 5 (b)\n",
    "#### Report on\n",
    "#### a. What is you interpretation from the kappa values (use the table provided in the description document)? what do you understand?"
   ]
  },
  {
   "cell_type": "code",
   "execution_count": 35,
   "id": "af8dd098-a2e3-4e87-a5cc-7347f00280e1",
   "metadata": {},
   "outputs": [],
   "source": [
    "#The kappa values obtained range from \"no agreement\" to \"slight agreement\".\n",
    "#It tells us that the bot identiﬁcation tools interpreted data quite differently.\n",
    "#It also means that there is a maximum of one good bot identification tool (there could be none) because\n",
    "#If there is more than one, they should agree more about predictions."
   ]
  },
  {
   "cell_type": "markdown",
   "id": "7e9462bc-95d6-4fd8-8231-f6e13f19c2eb",
   "metadata": {},
   "source": [
    "#### b. Based on your previous analysis, which bot identification tool would you use, if you want to predict if a contributor is a human or bot? Motivate your answer"
   ]
  },
  {
   "cell_type": "code",
   "execution_count": 36,
   "id": "23f9e9ad-4392-43bb-afb3-b33bfa472c50",
   "metadata": {},
   "outputs": [],
   "source": [
    "#When compared in pairs, BoDeGHa appears to be less trustworthy because it clearly disagrees with the results of the other tools.\n",
    "#Among BotHunter and Rabbit, Rabbit shows the highest level of agreement with BoDeGHa.\n",
    "#Therefore, I would choose Rabbit, although no tool seems to significantly outperform the others."
   ]
  },
  {
   "cell_type": "markdown",
   "id": "88945f23-8222-4925-b6fc-b049b0761a7a",
   "metadata": {},
   "source": [
    "## Section 5"
   ]
  },
  {
   "cell_type": "markdown",
   "id": "0158557e-2389-45c2-b725-8782923d0f87",
   "metadata": {},
   "source": [
    "#### Query the GitHub Events API to get maximum possible events for each contributor (maximum is 300 events).  \n",
    "#### You can use the following query: '{QUERY_ROOT}/users/{contributor}/events?per_page=100&page={page}' where page = 1 or 2 or 3  \n",
    "#### As you did in earlier task, make a request to GitHub Events API with the required headers, convert the response to JSON, extract the following fields and store in a DataFrame:\n",
    "Event id - json_response['event_id']  \n",
    "Name of the contributor - json_response['actor']['login']  \n",
    "Name of the repository - json_response['repository']['name']  \n",
    "Type of event - json_response['type']  \n",
    "Time of event - json_response['created_at']\n",
    "\n",
    "#### Hint: Query the GitHubEvents API for all contributors. Append the obtained JSON result to a list of JSONs. Process one dictionary after other to get your required fields and store them in another list of dictionaries. Finally convert this dictionaty to DataFrame. OR You can directly convert the list of JSONs to DataFrame using pd.json_normalize() and select the required columns alone.\n",
    "\n",
    "#### The resultant dataframe should have all the recent events performed by all the contributors and the following columns should be present in them - event_id, contributor, repo_name, event_type, created_at.\n"
   ]
  },
  {
   "cell_type": "code",
   "execution_count": 51,
   "id": "a32aae1c-037c-4428-b962-97d1aae2075e",
   "metadata": {},
   "outputs": [
    {
     "data": {
      "text/html": [
       "<div>\n",
       "<style scoped>\n",
       "    .dataframe tbody tr th:only-of-type {\n",
       "        vertical-align: middle;\n",
       "    }\n",
       "\n",
       "    .dataframe tbody tr th {\n",
       "        vertical-align: top;\n",
       "    }\n",
       "\n",
       "    .dataframe thead th {\n",
       "        text-align: right;\n",
       "    }\n",
       "</style>\n",
       "<table border=\"1\" class=\"dataframe\">\n",
       "  <thead>\n",
       "    <tr style=\"text-align: right;\">\n",
       "      <th></th>\n",
       "      <th>event_id</th>\n",
       "      <th>contributor</th>\n",
       "      <th>repo_name</th>\n",
       "      <th>event_type</th>\n",
       "      <th>created_at</th>\n",
       "    </tr>\n",
       "  </thead>\n",
       "  <tbody>\n",
       "    <tr>\n",
       "      <th>0</th>\n",
       "      <td>36997111539</td>\n",
       "      <td>flyio-buildbot</td>\n",
       "      <td>superfly/flyctl</td>\n",
       "      <td>CreateEvent</td>\n",
       "      <td>2024-03-29T11:50:40Z</td>\n",
       "    </tr>\n",
       "    <tr>\n",
       "      <th>1</th>\n",
       "      <td>36984010934</td>\n",
       "      <td>flyio-buildbot</td>\n",
       "      <td>superfly/flyctl</td>\n",
       "      <td>CreateEvent</td>\n",
       "      <td>2024-03-28T23:06:37Z</td>\n",
       "    </tr>\n",
       "    <tr>\n",
       "      <th>2</th>\n",
       "      <td>36979299396</td>\n",
       "      <td>flyio-buildbot</td>\n",
       "      <td>superfly/flyctl</td>\n",
       "      <td>CreateEvent</td>\n",
       "      <td>2024-03-28T19:29:53Z</td>\n",
       "    </tr>\n",
       "    <tr>\n",
       "      <th>3</th>\n",
       "      <td>36967471804</td>\n",
       "      <td>flyio-buildbot</td>\n",
       "      <td>superfly/flyctl</td>\n",
       "      <td>CreateEvent</td>\n",
       "      <td>2024-03-28T13:19:08Z</td>\n",
       "    </tr>\n",
       "    <tr>\n",
       "      <th>4</th>\n",
       "      <td>36952078770</td>\n",
       "      <td>flyio-buildbot</td>\n",
       "      <td>superfly/flyctl</td>\n",
       "      <td>CreateEvent</td>\n",
       "      <td>2024-03-28T02:35:49Z</td>\n",
       "    </tr>\n",
       "    <tr>\n",
       "      <th>...</th>\n",
       "      <td>...</td>\n",
       "      <td>...</td>\n",
       "      <td>...</td>\n",
       "      <td>...</td>\n",
       "      <td>...</td>\n",
       "    </tr>\n",
       "    <tr>\n",
       "      <th>8754</th>\n",
       "      <td>37003670693</td>\n",
       "      <td>github-actions[bot]</td>\n",
       "      <td>starterstack/starterstack</td>\n",
       "      <td>IssueCommentEvent</td>\n",
       "      <td>2024-03-29T16:46:12Z</td>\n",
       "    </tr>\n",
       "    <tr>\n",
       "      <th>8755</th>\n",
       "      <td>37003670627</td>\n",
       "      <td>github-actions[bot]</td>\n",
       "      <td>aksamlan/lava</td>\n",
       "      <td>PushEvent</td>\n",
       "      <td>2024-03-29T16:46:12Z</td>\n",
       "    </tr>\n",
       "    <tr>\n",
       "      <th>8756</th>\n",
       "      <td>37003670664</td>\n",
       "      <td>github-actions[bot]</td>\n",
       "      <td>pemkotbekasi/photo_gallery</td>\n",
       "      <td>PushEvent</td>\n",
       "      <td>2024-03-29T16:46:12Z</td>\n",
       "    </tr>\n",
       "    <tr>\n",
       "      <th>8757</th>\n",
       "      <td>37003670454</td>\n",
       "      <td>github-actions[bot]</td>\n",
       "      <td>starterstack/starterstack</td>\n",
       "      <td>CreateEvent</td>\n",
       "      <td>2024-03-29T16:46:12Z</td>\n",
       "    </tr>\n",
       "    <tr>\n",
       "      <th>8758</th>\n",
       "      <td>37003670393</td>\n",
       "      <td>github-actions[bot]</td>\n",
       "      <td>starterstack/starterstack</td>\n",
       "      <td>ReleaseEvent</td>\n",
       "      <td>2024-03-29T16:46:11Z</td>\n",
       "    </tr>\n",
       "  </tbody>\n",
       "</table>\n",
       "<p>8759 rows × 5 columns</p>\n",
       "</div>"
      ],
      "text/plain": [
       "         event_id          contributor                   repo_name  \\\n",
       "0     36997111539       flyio-buildbot             superfly/flyctl   \n",
       "1     36984010934       flyio-buildbot             superfly/flyctl   \n",
       "2     36979299396       flyio-buildbot             superfly/flyctl   \n",
       "3     36967471804       flyio-buildbot             superfly/flyctl   \n",
       "4     36952078770       flyio-buildbot             superfly/flyctl   \n",
       "...           ...                  ...                         ...   \n",
       "8754  37003670693  github-actions[bot]   starterstack/starterstack   \n",
       "8755  37003670627  github-actions[bot]               aksamlan/lava   \n",
       "8756  37003670664  github-actions[bot]  pemkotbekasi/photo_gallery   \n",
       "8757  37003670454  github-actions[bot]   starterstack/starterstack   \n",
       "8758  37003670393  github-actions[bot]   starterstack/starterstack   \n",
       "\n",
       "             event_type            created_at  \n",
       "0           CreateEvent  2024-03-29T11:50:40Z  \n",
       "1           CreateEvent  2024-03-28T23:06:37Z  \n",
       "2           CreateEvent  2024-03-28T19:29:53Z  \n",
       "3           CreateEvent  2024-03-28T13:19:08Z  \n",
       "4           CreateEvent  2024-03-28T02:35:49Z  \n",
       "...                 ...                   ...  \n",
       "8754  IssueCommentEvent  2024-03-29T16:46:12Z  \n",
       "8755          PushEvent  2024-03-29T16:46:12Z  \n",
       "8756          PushEvent  2024-03-29T16:46:12Z  \n",
       "8757        CreateEvent  2024-03-29T16:46:12Z  \n",
       "8758       ReleaseEvent  2024-03-29T16:46:11Z  \n",
       "\n",
       "[8759 rows x 5 columns]"
      ]
     },
     "execution_count": 51,
     "metadata": {},
     "output_type": "execute_result"
    }
   ],
   "source": [
    "df_section5 = pd.read_csv(CSVPATH)\n",
    "\n",
    "def fetch_contributor_events(contributor, page):\n",
    "    url = f'https://api.github.com/users/{contributor}/events?per_page=100&page={page}'\n",
    "    response = requests.get(url, headers=HEADERS)\n",
    "    if response.status_code == 200:\n",
    "        return response.json()\n",
    "    else:\n",
    "        print(f\"Failed to fetch events for {contributor} on page {page}. Status code: {response.status_code}\")\n",
    "        return []\n",
    "\n",
    "all_events = []\n",
    "for contributor in df_section5['contributor'].unique():\n",
    "    for page in range(1, 4):  # Pages are limited to 1, 2, and 3\n",
    "        contributor_events = fetch_contributor_events(contributor, page)\n",
    "        all_events.extend(contributor_events)\n",
    "\n",
    "processed_events = []\n",
    "for event in all_events:\n",
    "    processed_event = {\n",
    "        'event_id': event['id'],\n",
    "        'contributor': event['actor']['login'],\n",
    "        'repo_name': event['repo']['name'],\n",
    "        'event_type': event['type'],\n",
    "        'created_at': event['created_at']\n",
    "    }\n",
    "    processed_events.append(processed_event)\n",
    "\n",
    "df_section5 = pd.DataFrame(processed_events)\n",
    "\n",
    "df_section5"
   ]
  },
  {
   "cell_type": "markdown",
   "id": "6d107b13-0c4f-4a56-a284-596f73a53d2f",
   "metadata": {},
   "source": [
    "### Question 1\n",
    "#### Group each event into the following four categories\n",
    "\n",
    "Issues: IssueCommentEvent, IssuesEvent  \n",
    "Pull Requests: PullRequestEvent, PullRequestReviewCommentEvent  \n",
    "Commits: CommitCommentEvent, PushEvent  \n",
    "Repository: CreateEvent, DeleteEvent, ForkEvent, GollumEvent, MemberEvent, PublicEvent, ReleaseEvent, SponsorshipEvent, WatchEvent  \n",
    "\n",
    "#### Hint:\n",
    "1. Add a column called event_group that mentions which event group does that event belong to. Each event (row) should correspond to an event group.  \n",
    "2. Then perform groupby on ['contributor','event_group'],  \n",
    "3. use .agg (https://pandas.pydata.org/pandas-docs/stable/reference/api/pandas.DataFrame.agg.html) to count the number of events performed by each contributor in each group,  \n",
    "4. use pivot with the required arguments (https://pandas.pydata.org/pandas-docs/stable/reference/api/pandas.DataFrame.pivot.html). An example is given [here](#pivot_example) in question 2(b), and  \n",
    "5. finally merge it with your 'type' field from the DataFrame you got in Section4\n",
    "\n",
    "The final DataFrame should be looking like the following  \n",
    "![](event_group.png)"
   ]
  },
  {
   "cell_type": "code",
   "execution_count": 52,
   "id": "06072cfd-9de7-4e25-a3fa-11296a728484",
   "metadata": {},
   "outputs": [],
   "source": [
    "# In the resultant DataFrame - each row should corespond to a contributor, and the columns should have all the event groups  \n",
    "# and the type of the contributor (that you decided in the previous DataFrame) and the values should be the number \n",
    "# of events of that event event group the contriubutor has performed.\n",
    "\n",
    "issue_group = ['IssueCommentEvent', 'IssuesEvent']\n",
    "pr_group = ['PullRequestEvent', 'PullRequestReviewCommentEvent']\n",
    "commit_group = ['CommitCommentEvent', 'PushEvent']\n",
    "repo_group = ['CreateEvent', 'DeleteEvent', 'ForkEvent', 'GollumEvent', 'MemberEvent', 'PublicEvent', 'ReleaseEvent', 'SponsorshipEvent', 'WatchEvent']"
   ]
  },
  {
   "cell_type": "code",
   "execution_count": 53,
   "id": "326eaddf-c6f2-4e7e-a3e1-37183a3c90ca",
   "metadata": {},
   "outputs": [
    {
     "name": "stdout",
     "output_type": "stream",
     "text": [
      "                contributor  Commits  Issues  Pull Requests  Repository   type\n",
      "0               BrewTestBot     66.0     0.0           93.0        91.0  Human\n",
      "1            EricFromCanada     18.0    12.0           21.0        33.0  Human\n",
      "2           FnControlOption     18.0     5.0            4.0         6.0  Human\n",
      "3                   Moulick    100.0    63.0           22.0       105.0  Human\n",
      "4                SMillerDev     55.0    48.0           65.0        15.0  Human\n",
      "5          asyncapi-bot-eve    157.0     0.0            0.0        11.0    Bot\n",
      "6                      avsm     20.0    33.0           18.0         7.0  Human\n",
      "7                 bevanjkay     66.0    16.0           80.0        22.0  Human\n",
      "8                 bfontaine     90.0    37.0            3.0        61.0  Human\n",
      "9         blockstack-devops     34.0   101.0            6.0        69.0    Bot\n",
      "10            branchvincent     28.0     9.0           62.0        95.0  Human\n",
      "11                 carlocab     31.0    35.0           56.0        14.0  Human\n",
      "12                    claui     72.0    17.0           69.0       118.0  Human\n",
      "13                 curquiza     34.0   117.0           31.0        27.0  Human\n",
      "14               dandavison    122.0    47.0           53.0        50.0  Human\n",
      "15                  ddollar     30.0     2.0            3.0        36.0  Human\n",
      "16              denysdovhan     24.0    16.0           21.0        44.0  Human\n",
      "17                 derrabus     53.0    56.0           73.0        23.0  Human\n",
      "18             epistrephein     69.0     9.0           11.0        70.0  Human\n",
      "19           flyio-buildbot      0.0     0.0            0.0       300.0    Bot\n",
      "20         flyio-flyctl-bot      0.0     0.0            8.0         8.0    Bot\n",
      "21      github-actions[bot]    274.0     4.0            3.0        11.0    App\n",
      "22  github-merge-queue[bot]     89.0     0.0            2.0       209.0    App\n",
      "23               jeremylong     33.0   154.0           44.0        28.0  Human\n",
      "24            jesseduffield     49.0    92.0           48.0        28.0  Human\n",
      "25                 jidicula     70.0     6.0           39.0        43.0  Human\n",
      "26                kevinAlbs     81.0     8.0          119.0        22.0  Human\n",
      "27                  matchai    250.0     0.0           17.0        31.0  Human\n",
      "28                     mkhl     23.0     8.0           17.0        27.0  Human\n",
      "29                   nevack     56.0    92.0           62.0        35.0  Human\n",
      "30                   petere      5.0     9.0            4.0         1.0  Human\n",
      "31               pulumi-bot     29.0    37.0          124.0        45.0    Bot\n",
      "32                  samford     41.0    19.0           65.0        80.0  Human\n",
      "33                  seratch     69.0    73.0           58.0        35.0  Human\n",
      "34                   sferik     43.0    40.0            9.0         6.0  Human\n",
      "35               soloio-bot    203.0     7.0           37.0        10.0    Bot\n",
      "36                 stgraber    105.0    88.0           45.0         9.0  Human\n",
      "37                  tchajed    111.0    18.0           15.0        21.0  Human\n",
      "38                  wing328     46.0    76.0           69.0        36.0  Human\n",
      "39                  zuisong    120.0    27.0           53.0        89.0  Human\n"
     ]
    }
   ],
   "source": [
    "def categorize_event(event_type):\n",
    "    if event_type in issue_group:\n",
    "        return 'Issues'\n",
    "    elif event_type in pr_group:\n",
    "        return 'Pull Requests'\n",
    "    elif event_type in commit_group:\n",
    "        return 'Commits'\n",
    "    elif event_type in repo_group:\n",
    "        return 'Repository'\n",
    "\n",
    "df_section5['event_group'] = df_section5['event_type'].apply(categorize_event)\n",
    "\n",
    "grouped_df = df_section5.groupby(['contributor', 'event_group']).agg(event_count=('event_type', 'size')).reset_index()\n",
    "\n",
    "pivot_df = grouped_df.pivot(index='contributor', columns='event_group', values='event_count').fillna(0).reset_index()\n",
    "\n",
    "final_df = pivot_df.merge(df[['contributor', 'type']], on='contributor').drop_duplicates()\n",
    "\n",
    "print(final_df)"
   ]
  },
  {
   "cell_type": "code",
   "execution_count": 54,
   "id": "3b8b35af-92af-4ffd-8d99-2dd34d865ac1",
   "metadata": {},
   "outputs": [],
   "source": [
    "# YOUR CODE BELOW\n"
   ]
  },
  {
   "cell_type": "markdown",
   "id": "afca3310-5bef-48f5-be38-e0861d5c43b6",
   "metadata": {},
   "source": [
    "### Question 2 (a)\n",
    "\n",
    "#### Compute the median number of events per event group for Bot+Apps and Humans and write in DataFrame.\n",
    "\n",
    "Row should correspond to type (Bot_App and Human), Column should have Event group name and the values should be the median value of Bot_App or Human for that particular event group. An example is given below"
   ]
  },
  {
   "cell_type": "code",
   "execution_count": 44,
   "id": "ef89644a-1f38-4e67-81ab-c54db8d6c0ad",
   "metadata": {},
   "outputs": [
    {
     "data": {
      "text/html": [
       "<div>\n",
       "<style scoped>\n",
       "    .dataframe tbody tr th:only-of-type {\n",
       "        vertical-align: middle;\n",
       "    }\n",
       "\n",
       "    .dataframe tbody tr th {\n",
       "        vertical-align: top;\n",
       "    }\n",
       "\n",
       "    .dataframe thead th {\n",
       "        text-align: right;\n",
       "    }\n",
       "</style>\n",
       "<table border=\"1\" class=\"dataframe\">\n",
       "  <thead>\n",
       "    <tr style=\"text-align: right;\">\n",
       "      <th></th>\n",
       "      <th>event_group</th>\n",
       "      <th>median</th>\n",
       "      <th>type</th>\n",
       "    </tr>\n",
       "  </thead>\n",
       "  <tbody>\n",
       "    <tr>\n",
       "      <th>0</th>\n",
       "      <td>event_group1</td>\n",
       "      <td>val1</td>\n",
       "      <td>Bot_app</td>\n",
       "    </tr>\n",
       "    <tr>\n",
       "      <th>1</th>\n",
       "      <td>event_group1</td>\n",
       "      <td>val2</td>\n",
       "      <td>Human</td>\n",
       "    </tr>\n",
       "    <tr>\n",
       "      <th>2</th>\n",
       "      <td>event_group2</td>\n",
       "      <td>val3</td>\n",
       "      <td>Bot_app</td>\n",
       "    </tr>\n",
       "    <tr>\n",
       "      <th>3</th>\n",
       "      <td>event_group2</td>\n",
       "      <td>val4</td>\n",
       "      <td>Human</td>\n",
       "    </tr>\n",
       "    <tr>\n",
       "      <th>4</th>\n",
       "      <td>event_group3</td>\n",
       "      <td>val5</td>\n",
       "      <td>Bot_app</td>\n",
       "    </tr>\n",
       "    <tr>\n",
       "      <th>5</th>\n",
       "      <td>event_group3</td>\n",
       "      <td>val6</td>\n",
       "      <td>Human</td>\n",
       "    </tr>\n",
       "    <tr>\n",
       "      <th>6</th>\n",
       "      <td>event_group4</td>\n",
       "      <td>val7</td>\n",
       "      <td>Bot_app</td>\n",
       "    </tr>\n",
       "    <tr>\n",
       "      <th>7</th>\n",
       "      <td>event_group5</td>\n",
       "      <td>val8</td>\n",
       "      <td>Human</td>\n",
       "    </tr>\n",
       "  </tbody>\n",
       "</table>\n",
       "</div>"
      ],
      "text/plain": [
       "    event_group median     type\n",
       "0  event_group1   val1  Bot_app\n",
       "1  event_group1   val2    Human\n",
       "2  event_group2   val3  Bot_app\n",
       "3  event_group2   val4    Human\n",
       "4  event_group3   val5  Bot_app\n",
       "5  event_group3   val6    Human\n",
       "6  event_group4   val7  Bot_app\n",
       "7  event_group5   val8    Human"
      ]
     },
     "execution_count": 44,
     "metadata": {},
     "output_type": "execute_result"
    }
   ],
   "source": [
    "# For example:\n",
    "medians = [{'event_group': 'event_group1', 'median': 'val1', 'type': 'Bot_app'}, \n",
    "           {'event_group': 'event_group1', 'median': 'val2', 'type': 'Human'},\n",
    "           {'event_group': 'event_group2', 'median': 'val3', 'type': 'Bot_app'},\n",
    "           {'event_group': 'event_group2', 'median': 'val4', 'type': 'Human'},\n",
    "           {'event_group': 'event_group3', 'median': 'val5', 'type': 'Bot_app'},\n",
    "           {'event_group': 'event_group3', 'median': 'val6', 'type': 'Human'},\n",
    "           {'event_group': 'event_group4', 'median': 'val7', 'type': 'Bot_app'},\n",
    "           {'event_group': 'event_group5', 'median': 'val8', 'type': 'Human'}]\n",
    "df_medians = pd.DataFrame.from_dict(medians)\n",
    "df_medians"
   ]
  },
  {
   "cell_type": "code",
   "execution_count": 115,
   "id": "1c3dc1ce-f19c-44b7-8fa1-35df0ffaa936",
   "metadata": {},
   "outputs": [
    {
     "name": "stdout",
     "output_type": "stream",
     "text": [
      "     event_group  median     type\n",
      "0        Commits    54.0    Human\n",
      "1        Commits    61.5  Bot_app\n",
      "2         Issues    23.0    Human\n",
      "3         Issues     2.0  Bot_app\n",
      "4  Pull Requests    44.5    Human\n",
      "5  Pull Requests     4.5  Bot_app\n",
      "6     Repository    32.0    Human\n",
      "7     Repository    28.0  Bot_app\n"
     ]
    }
   ],
   "source": [
    "final_df['type'] = final_df['type'].replace({'Bot': 'Bot_app', 'App': 'Bot_app'})\n",
    "\n",
    "results = []\n",
    "\n",
    "for event_group in ['Commits', 'Issues', 'Pull Requests', 'Repository']:\n",
    "    medians_human = final_df[final_df['type'] == 'Human'][event_group].median()\n",
    "    medians_bot_app = final_df[final_df['type'] == 'Bot_app'][event_group].median()\n",
    "    \n",
    "    results.append({'event_group': event_group, 'median': medians_human, 'type': 'Human'})\n",
    "    \n",
    "    results.append({'event_group': event_group, 'median': medians_bot_app, 'type': 'Bot_app'})\n",
    "\n",
    "median_df = pd.DataFrame(results)\n",
    "\n",
    "print(median_df)"
   ]
  },
  {
   "cell_type": "markdown",
   "id": "8eafa8a6-3c98-41db-bebd-64adc634f77f",
   "metadata": {},
   "source": [
    "### Question 2 (b)\n",
    "\n",
    "Plot a heatmap of the DataFrame using seaborn - \n",
    "1. First convert the dataframe to the required format using pivot, example is given below\n",
    "2. plot using seaborn - sns.heatmap(df_medians, annot=True, vmin=0, vmax=300, cmap=\"crest\"). More details: https://seaborn.pydata.org/generated/seaborn.heatmap.html)"
   ]
  },
  {
   "cell_type": "markdown",
   "id": "2bd13bb8-628d-444e-b4a2-9887378a9cef",
   "metadata": {},
   "source": [
    "#### pd.pivot example:\n",
    "<a id='pivot_example'></a>"
   ]
  },
  {
   "cell_type": "code",
   "execution_count": 23,
   "id": "3fbf8d1e-86ba-4b86-8bfc-d1bba83c63a8",
   "metadata": {},
   "outputs": [
    {
     "data": {
      "text/html": [
       "<div>\n",
       "<style scoped>\n",
       "    .dataframe tbody tr th:only-of-type {\n",
       "        vertical-align: middle;\n",
       "    }\n",
       "\n",
       "    .dataframe tbody tr th {\n",
       "        vertical-align: top;\n",
       "    }\n",
       "\n",
       "    .dataframe thead th {\n",
       "        text-align: right;\n",
       "    }\n",
       "</style>\n",
       "<table border=\"1\" class=\"dataframe\">\n",
       "  <thead>\n",
       "    <tr style=\"text-align: right;\">\n",
       "      <th></th>\n",
       "      <th>event_group</th>\n",
       "      <th>median</th>\n",
       "      <th>type</th>\n",
       "    </tr>\n",
       "  </thead>\n",
       "  <tbody>\n",
       "    <tr>\n",
       "      <th>0</th>\n",
       "      <td>event_group1</td>\n",
       "      <td>val1</td>\n",
       "      <td>Bot_app</td>\n",
       "    </tr>\n",
       "    <tr>\n",
       "      <th>1</th>\n",
       "      <td>event_group1</td>\n",
       "      <td>val2</td>\n",
       "      <td>Human</td>\n",
       "    </tr>\n",
       "    <tr>\n",
       "      <th>2</th>\n",
       "      <td>event_group2</td>\n",
       "      <td>val3</td>\n",
       "      <td>Bot_app</td>\n",
       "    </tr>\n",
       "    <tr>\n",
       "      <th>3</th>\n",
       "      <td>event_group2</td>\n",
       "      <td>val4</td>\n",
       "      <td>Human</td>\n",
       "    </tr>\n",
       "    <tr>\n",
       "      <th>4</th>\n",
       "      <td>event_group3</td>\n",
       "      <td>val5</td>\n",
       "      <td>Bot_app</td>\n",
       "    </tr>\n",
       "    <tr>\n",
       "      <th>5</th>\n",
       "      <td>event_group3</td>\n",
       "      <td>val6</td>\n",
       "      <td>Human</td>\n",
       "    </tr>\n",
       "    <tr>\n",
       "      <th>6</th>\n",
       "      <td>event_group4</td>\n",
       "      <td>val7</td>\n",
       "      <td>Bot_app</td>\n",
       "    </tr>\n",
       "    <tr>\n",
       "      <th>7</th>\n",
       "      <td>event_group5</td>\n",
       "      <td>val8</td>\n",
       "      <td>Human</td>\n",
       "    </tr>\n",
       "  </tbody>\n",
       "</table>\n",
       "</div>"
      ],
      "text/plain": [
       "    event_group median     type\n",
       "0  event_group1   val1  Bot_app\n",
       "1  event_group1   val2    Human\n",
       "2  event_group2   val3  Bot_app\n",
       "3  event_group2   val4    Human\n",
       "4  event_group3   val5  Bot_app\n",
       "5  event_group3   val6    Human\n",
       "6  event_group4   val7  Bot_app\n",
       "7  event_group5   val8    Human"
      ]
     },
     "execution_count": 23,
     "metadata": {},
     "output_type": "execute_result"
    }
   ],
   "source": [
    "# Main DataFrame\n",
    "medians = [{'event_group': 'event_group1', 'median': 'val1', 'type': 'Bot_app'}, \n",
    "           {'event_group': 'event_group1', 'median': 'val2', 'type': 'Human'},\n",
    "           {'event_group': 'event_group2', 'median': 'val3', 'type': 'Bot_app'},\n",
    "           {'event_group': 'event_group2', 'median': 'val4', 'type': 'Human'},\n",
    "           {'event_group': 'event_group3', 'median': 'val5', 'type': 'Bot_app'},\n",
    "           {'event_group': 'event_group3', 'median': 'val6', 'type': 'Human'},\n",
    "           {'event_group': 'event_group4', 'median': 'val7', 'type': 'Bot_app'},\n",
    "           {'event_group': 'event_group5', 'median': 'val8', 'type': 'Human'}]\n",
    "df_medians = pd.DataFrame.from_dict(medians)\n",
    "df_medians"
   ]
  },
  {
   "cell_type": "code",
   "execution_count": 99,
   "id": "816f28a7-c281-4808-b987-5d74a1c08271",
   "metadata": {},
   "outputs": [],
   "source": [
    "# pivot the main DataFrame\n",
    "plot_df = median_df.pivot(index='type', columns='event_group', values='median').reset_index().rename_axis(None,axis=1)"
   ]
  },
  {
   "cell_type": "code",
   "execution_count": 100,
   "id": "24478c26-f367-4589-85dc-3cfa22614f3e",
   "metadata": {},
   "outputs": [
    {
     "data": {
      "image/png": "[encoded data removed]",
      "text/plain": [
       "<Figure size 1000x600 with 2 Axes>"
      ]
     },
     "metadata": {},
     "output_type": "display_data"
    }
   ],
   "source": [
    "plot_df.set_index('type', inplace=True)\n",
    "\n",
    "plt.figure(figsize=(10, 6))\n",
    "sns.heatmap(plot_df, annot=True, vmin=0, vmax=300, cmap=\"crest\")\n",
    "plt.title('Heatmap of Median Values by Event Group and Type')\n",
    "plt.xlabel('Type')\n",
    "plt.ylabel('Event Group')\n",
    "plt.show()"
   ]
  },
  {
   "cell_type": "code",
   "execution_count": 26,
   "id": "ab7b9ff6-1286-4c5b-a604-5459b6d2b099",
   "metadata": {},
   "outputs": [],
   "source": [
    "# YOUR CODE BELOW\n"
   ]
  },
  {
   "cell_type": "markdown",
   "id": "19d518fd-10f0-4f91-a38e-595fe89f36a2",
   "metadata": {},
   "source": [
    "#### What is the difference that you observe between Bots+Apps and Humans?"
   ]
  },
  {
   "cell_type": "code",
   "execution_count": 104,
   "id": "df3a1600-7110-4866-9de3-42b85b407722",
   "metadata": {},
   "outputs": [],
   "source": [
    "#The humans have generally more events than Bots+Apps."
   ]
  },
  {
   "cell_type": "markdown",
   "id": "1bbc377f-79bb-4b52-9bba-fe7cc4a804ab",
   "metadata": {},
   "source": [
    "#### What is the differnce that you observe between Event groups?"
   ]
  },
  {
   "cell_type": "code",
   "execution_count": 105,
   "id": "064cc1a2-c910-47a8-b327-deba02a815a1",
   "metadata": {},
   "outputs": [],
   "source": [
    "#Commits is the dominant event group while Issues are the least common."
   ]
  },
  {
   "cell_type": "markdown",
   "id": "5e941d75-0450-46f4-9345-d7f109ff9b92",
   "metadata": {},
   "source": [
    "#### What is the difference that you observe between Bots+Apps and Humans and Event groups all considering at the same time?"
   ]
  },
  {
   "cell_type": "code",
   "execution_count": 106,
   "id": "7145cbf9-e9a6-4798-aa23-54428bc7f73b",
   "metadata": {},
   "outputs": [],
   "source": [
    "#Humans and Bots/Apps have more or less the same amount of repository and commits (Bots/Apps have actually a bit more commits).\n",
    "#However, Humans tend to have way more issues and pull requests."
   ]
  },
  {
   "cell_type": "markdown",
   "id": "5c402f2c-2628-4957-ac76-e48bb85564cf",
   "metadata": {},
   "source": [
    "### Question 3"
   ]
  },
  {
   "cell_type": "markdown",
   "id": "b7fd623c-4bc5-4cef-9649-fb8cdd41e981",
   "metadata": {},
   "source": [
    "#### Create box plots or boxen plots or violin plots or a combination of these to visualise the distribution of number of events in each event group. \n",
    "#### For more information you can visit - https://seaborn.pydata.org/tutorial/categorical.html#categorical-tutorial  \n",
    "#### For violin plots - https://seaborn.pydata.org/generated/seaborn.violinplot.html  \n",
    "#### You should highlight the data points that correspond to bots using a stripplot in seaborn. https://seaborn.pydata.org/tutorial/categorical.html#categorical-tutorial  \n",
    "#### Interpret the results of the visualisation."
   ]
  },
  {
   "cell_type": "code",
   "execution_count": 110,
   "id": "21a499ac-e0c7-4b0d-9f90-78b704a13ef2",
   "metadata": {},
   "outputs": [
    {
     "data": {
      "image/png": "[encoded data removed]",
      "text/plain": [
       "<Figure size 1000x600 with 1 Axes>"
      ]
     },
     "metadata": {},
     "output_type": "display_data"
    }
   ],
   "source": [
    "plt.figure(figsize=(10, 6))\n",
    "sns.boxplot(x='event_group', y='median', data=median_df)\n",
    "plt.title('Distribution of Number of Events in Each Event Group')\n",
    "plt.xlabel('Event Group')\n",
    "plt.ylabel('Number of Events (Median)')\n",
    "plt.xticks(rotation=45)\n",
    "plt.show()"
   ]
  },
  {
   "cell_type": "code",
   "execution_count": 111,
   "id": "330c9d73-28a9-4d83-9728-cf595374235b",
   "metadata": {},
   "outputs": [],
   "source": [
    "#There are relatively few issues compared to other event groups, and the number varies quite significantly between humans and bots/apps.\n",
    "#The number of pull requests varies significantly between humans and bots/apps.\n",
    "#There can be as many pull requests as repositories (humans) or as few as for issues (bots/apps).\n",
    "#The number of repositories is quite large compared to issues but quite small compared to commits.\n",
    "#The difference in the number of repositories between humans and bots/apps is nearly inexistant.\n",
    "#There are more or less as many commits for humans than for bots/apps and the commits are by far the more common event type."
   ]
  },
  {
   "cell_type": "code",
   "execution_count": 29,
   "id": "a7ec1644-8c4d-4bd8-b504-3196ddab982e",
   "metadata": {},
   "outputs": [],
   "source": [
    "# YOUR CODE BELOW - Visualise number of events from commit event group\n",
    "#"
   ]
  },
  {
   "cell_type": "code",
   "execution_count": 30,
   "id": "d1c2536a-0f6c-4f2e-a8a5-b07e8abf5217",
   "metadata": {},
   "outputs": [],
   "source": [
    "# YOUR CODE BELOW - Visualise number of events from repo event group\n"
   ]
  },
  {
   "cell_type": "markdown",
   "id": "a663a24f-ebbd-4707-a8e2-c4a72a9451a7",
   "metadata": {},
   "source": [
    "### Question 4.1"
   ]
  },
  {
   "cell_type": "markdown",
   "id": "ea2541bc-5f3a-4ce3-bfb1-21e16104b4c5",
   "metadata": {},
   "source": [
    "#### Statistical identify whether number of events in each event group is normally distributed or not.\n",
    "#### Null hypothesis - $H_0$: Sample comes from the data that has normal distribution.\n",
    "#### Use Shapiro-Wilk test for this purpose. Use the p-value with a threshold of 0.05 to determine whether $H_0$ can be rejected with statistical significance or not. \n",
    "\n",
    "#### Use shapiro from scipy.stats to perform this test (https://docs.scipy.org/doc/scipy/reference/generated/scipy.stats.shapiro.html)"
   ]
  },
  {
   "cell_type": "code",
   "execution_count": null,
   "id": "d4273e9c-f29f-4b46-ab75-3ceb16a2aae6",
   "metadata": {},
   "outputs": [],
   "source": []
  },
  {
   "cell_type": "code",
   "execution_count": null,
   "id": "03c8617f-a3ed-40ad-8b2f-7ff0a41c3518",
   "metadata": {},
   "outputs": [],
   "source": []
  },
  {
   "cell_type": "markdown",
   "id": "e7ed78ce-6901-4ddb-a219-d5a8c4e26886",
   "metadata": {},
   "source": [
    "### Question 4.2\n",
    "#### Determine if there is any statistical diﬀerence in number of events between the identified event groups. Perform this test on all pairs of event groups. \n",
    "#### Null hypothesis - $H_0$: Any two event group come from the same population.\n",
    "#### If $H_0$ is rejected in Shapiro-Wilk test (at least for one of the two event groups considered for test), use the Mann-Whitney U statistical test for this purpose. If $H_0$ is not rejected in Shapiro-Wilk test, use the independent t-test for this purpose.  \n",
    "#### In any case, use the p-value with a threshold of 0.01 to determine whether $H_0$ can be rejected with statistical significance. \n",
    "\n",
    "#### Use mannwhitneyu from scipy.stats to perform Mann-Whitney U test (https://docs.scipy.org/doc/scipy/reference/generated/scipy.stats.mannwhitneyu.html) \n",
    "#### or \n",
    "#### ttest_ind from scipy.stats to perform independent t-test https://docs.scipy.org/doc/scipy/reference/generated/scipy.stats.ttest_ind.html."
   ]
  },
  {
   "cell_type": "markdown",
   "id": "3d3fe255-f6a8-4c49-92aa-1859c98d51c1",
   "metadata": {},
   "source": [
    "#### More information:\n",
    "\n",
    "You can pass the following arguments to mannwhitneyu from scipy.stats - (method='exact', nan_policy='omit'). For ttest_ind you can use - (nan_policy='omit')"
   ]
  },
  {
   "cell_type": "code",
   "execution_count": null,
   "id": "7e7c952f-15a8-4634-b786-90ff1e8f20da",
   "metadata": {},
   "outputs": [],
   "source": []
  },
  {
   "cell_type": "markdown",
   "id": "f443dbbc-a8f1-4281-aadb-8ec8f9c792da",
   "metadata": {},
   "source": [
    "### Question 5\n",
    "#### Each time you reject the null hypothesis $H_0$, quantify the effect size of the diﬀerence between the groups using cliﬀ’s delta ($\\delta$). \n",
    "#### To calculate cliﬀ’s delta, you can pass the list of values to cliﬀ delta.py file given in the repository. E.g., cliffsDelta.cliffsDelta(list of values). This will return the effect size and its interpretation (negligible, small, medium, large)."
   ]
  },
  {
   "cell_type": "code",
   "execution_count": null,
   "id": "c19a6054-933f-425b-971e-d54a429c901d",
   "metadata": {},
   "outputs": [],
   "source": [
    "# YOU CODE BELOW"
   ]
  },
  {
   "cell_type": "markdown",
   "id": "3cd1e637-c222-4497-b8b6-a61252349bdc",
   "metadata": {},
   "source": [
    "### Qusetion 6"
   ]
  },
  {
   "cell_type": "markdown",
   "id": "d0056ddd-2f2e-49a8-9bda-c4117be7fda7",
   "metadata": {},
   "source": [
    "#### Create violinplots to visualise the distributions for the following metrics and answer the questions that follow it. You should highlight the data points corresponding to bots using a stripplot in seaborn.\n",
    "\n",
    "#### Hint:\n",
    "\n",
    "1. Merge you DataFrame of event with the type of contributor that you identified in section 3.\n",
    "2. Write a function that you will use for all the seaborn plots. This way you can reduce duplication and update it easily."
   ]
  },
  {
   "cell_type": "code",
   "execution_count": 32,
   "id": "c7d168b2-50d9-41a8-84ca-3f40fddaaf39",
   "metadata": {},
   "outputs": [],
   "source": [
    "# YOUR CODE BELOW - function for seaborn plot\n"
   ]
  },
  {
   "cell_type": "markdown",
   "id": "04f0e866-0588-40b4-8834-a5722e55d7f2",
   "metadata": {},
   "source": [
    "#### Total number of events"
   ]
  },
  {
   "cell_type": "code",
   "execution_count": 35,
   "id": "51e9fca8-4f73-428b-b5ef-d7d7f80a4820",
   "metadata": {},
   "outputs": [],
   "source": [
    "# YOUR CODE BELOW"
   ]
  },
  {
   "cell_type": "markdown",
   "id": "06b79e67-83b8-4f1a-9436-b462e786e7bd",
   "metadata": {},
   "source": [
    "#### Number of event types"
   ]
  },
  {
   "cell_type": "code",
   "execution_count": 36,
   "id": "1f485dcb-900c-4cbb-bb77-06702156d738",
   "metadata": {},
   "outputs": [],
   "source": [
    "# YOUR CODE BELOW"
   ]
  },
  {
   "cell_type": "markdown",
   "id": "e12f1d24-58c4-4da2-a258-64b3f0890aba",
   "metadata": {},
   "source": [
    "#### Mean number of events per event type"
   ]
  },
  {
   "cell_type": "code",
   "execution_count": 33,
   "id": "46259ecf-ed64-40b8-b43a-0bf3a2a74444",
   "metadata": {},
   "outputs": [],
   "source": [
    "# YOUR CODE BELOW"
   ]
  },
  {
   "cell_type": "markdown",
   "id": "27470611-0758-4007-809b-61406d11e168",
   "metadata": {},
   "source": [
    "#### Mean number of events per event group"
   ]
  },
  {
   "cell_type": "code",
   "execution_count": 34,
   "id": "62068e1f-24de-481b-a3e2-18ae1f246c00",
   "metadata": {},
   "outputs": [],
   "source": [
    "# YOUR CODE BELOW"
   ]
  },
  {
   "cell_type": "markdown",
   "id": "19f6a36a-5db2-4476-86da-8d08038846cb",
   "metadata": {},
   "source": [
    "#### Gini coeﬃcient of time between consecutive event"
   ]
  },
  {
   "cell_type": "code",
   "execution_count": 37,
   "id": "7632b026-bf64-4757-b96b-9d6938592fed",
   "metadata": {},
   "outputs": [],
   "source": [
    "def time_diffs(time_stamps):\n",
    "    diff_time_stamps = np.array([])\n",
    "    for i in range(len(time_stamps)-1):\n",
    "        diff = (time_stamps.iloc[i+1] - time_stamps.iloc[i])/pd.to_timedelta('1 second')\n",
    "        diff_time_stamps = np.append(diff_time_stamps, [diff])\n",
    "    return(diff_time_stamps)"
   ]
  },
  {
   "cell_type": "code",
   "execution_count": 38,
   "id": "44b4da8d-74aa-4852-b810-b947396eb9c2",
   "metadata": {},
   "outputs": [],
   "source": [
    "def gini(time_stamps):\n",
    "    '''\n",
    "    args: time_stamps - Series of time stamps for a contributor\n",
    "    \n",
    "    return: g_coeff - float that gives gini coefficient\n",
    "    \n",
    "    method: calculate the Gini coefficient of a numpy array\n",
    "    '''\n",
    "    array = time_diffs(time_stamps)\n",
    "    array = array[array!=0]\n",
    "    if len(array) == 0:\n",
    "        return np.float64(0.0)\n",
    "    array = array.flatten()\n",
    "    array = np.sort(array)\n",
    "    index = np.arange(1, array.shape[0] + 1)\n",
    "    n = array.shape[0]\n",
    "    g_coeff = (np.sum((2 * index - n - 1) * array)) / (n * np.sum(array))\n",
    "    \n",
    "    return (g_coeff.round(4))"
   ]
  },
  {
   "cell_type": "markdown",
   "id": "4d438245-7514-441c-82f3-879e40654c40",
   "metadata": {},
   "source": [
    "You can pass a Series of time-stamps to gini(time_stamps) function to get the Gini coeﬃcient\n",
    "#### Hint:\n",
    "1. Groupby the contributors on 'contributor' and use gini as .agg function on 'created_at'.\n",
    "2. Merge the resultant DataFram with their type (the df that you got in section 4)\n",
    "3. Make box/boxen/violin plots on those gini values"
   ]
  },
  {
   "cell_type": "code",
   "execution_count": 39,
   "id": "fd745a1f-abe2-4538-8af6-e6004991cd2e",
   "metadata": {},
   "outputs": [],
   "source": [
    "# YOUR CODE BELOW\n"
   ]
  },
  {
   "cell_type": "code",
   "execution_count": null,
   "id": "90504834-e64e-4c1f-b102-733bacae2934",
   "metadata": {},
   "outputs": [],
   "source": [
    "# YOUR CODE BELOW\n"
   ]
  },
  {
   "cell_type": "markdown",
   "id": "e49d9ca9-e5db-4a9d-8c0e-91a9203b546d",
   "metadata": {},
   "source": [
    "### Question 6.1"
   ]
  },
  {
   "cell_type": "markdown",
   "id": "64d6beec-e66b-4c4f-b75a-2fc5a20e9cf1",
   "metadata": {},
   "source": [
    "#### Do you ﬁnd any set of accounts having a diverging behaviour? (Hint: look for outliers.)"
   ]
  },
  {
   "cell_type": "code",
   "execution_count": null,
   "id": "4ae0da5d-52f3-4dc3-8051-8955a31b6de6",
   "metadata": {},
   "outputs": [],
   "source": []
  },
  {
   "cell_type": "markdown",
   "id": "163bc987-51d9-4d18-9120-a38267219d26",
   "metadata": {},
   "source": [
    "### Question 6.2"
   ]
  },
  {
   "cell_type": "markdown",
   "id": "9521d008-1576-4212-98f9-e0740278f106",
   "metadata": {},
   "source": [
    "#### What is the type of the accounts that have diverging behaviour?"
   ]
  },
  {
   "cell_type": "code",
   "execution_count": null,
   "id": "b4a4f4e7-f497-43b2-b889-c8431f9c3f54",
   "metadata": {},
   "outputs": [],
   "source": []
  },
  {
   "cell_type": "markdown",
   "id": "2f0886b1-158f-4e59-83f0-1f8753605fb5",
   "metadata": {},
   "source": [
    "### Question 6.3"
   ]
  },
  {
   "cell_type": "markdown",
   "id": "92a22e22-5b3f-4637-b3c3-d0992b3b0219",
   "metadata": {},
   "source": [
    "#### Do bots have different behaviour than apps? Motivate your answer"
   ]
  },
  {
   "cell_type": "code",
   "execution_count": null,
   "id": "6807c449-d489-46a8-8749-3602685f8351",
   "metadata": {},
   "outputs": [],
   "source": []
  },
  {
   "cell_type": "markdown",
   "id": "b3ad5bea-d77e-45bb-9aff-014845fd648f",
   "metadata": {},
   "source": [
    "### Question 6.4"
   ]
  },
  {
   "cell_type": "markdown",
   "id": "eca85aad-3c25-405b-bcc2-35abf4b3641b",
   "metadata": {},
   "source": [
    "#### Do bots and apps have a diﬀerent behaviour from human accounts? (Hint: in the box plots ﬁnd where the bots and apps are located and find where the humans are located)"
   ]
  },
  {
   "cell_type": "code",
   "execution_count": null,
   "id": "6f4f524e-4651-40fd-8ad1-fb7c82f55126",
   "metadata": {},
   "outputs": [],
   "source": []
  },
  {
   "cell_type": "markdown",
   "id": "a02b6b1b-bdc4-4e2d-8ec8-12fc89737c92",
   "metadata": {},
   "source": [
    "### Question 6.5"
   ]
  },
  {
   "cell_type": "markdown",
   "id": "a15bc77c-e7b7-403b-8974-84f86caa3d77",
   "metadata": {},
   "source": [
    "#### Do all bots (other than outliers) have the same behaviour? List the bots that have a diﬀerent behaviour. Mention your interpretation on the cause of this diverging behaviour compared to other bots?"
   ]
  },
  {
   "cell_type": "code",
   "execution_count": null,
   "id": "1cc51551-8155-4a24-a80b-22ac56b78c33",
   "metadata": {},
   "outputs": [],
   "source": []
  },
  {
   "cell_type": "code",
   "execution_count": null,
   "id": "476c050c-dffa-469c-94f3-568b8c74712e",
   "metadata": {},
   "outputs": [],
   "source": []
  }
 ],
 "metadata": {
  "kernelspec": {
   "display_name": "Python 3 (ipykernel)",
   "language": "python",
   "name": "python3"
  },
  "language_info": {
   "codemirror_mode": {
    "name": "ipython",
    "version": 3
   },
   "file_extension": ".py",
   "mimetype": "text/x-python",
   "name": "python",
   "nbconvert_exporter": "python",
   "pygments_lexer": "ipython3",
   "version": "3.11.0"
  }
 },
 "nbformat": 4,
 "nbformat_minor": 5
}
